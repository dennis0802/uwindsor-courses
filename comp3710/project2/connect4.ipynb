{
 "cells": [
  {
   "attachments": {},
   "cell_type": "markdown",
   "metadata": {},
   "source": [
    "<font size=\"7\"><b>Connect-4 Dataset with SVM</b></font>"
   ]
  },
  {
   "cell_type": "code",
   "execution_count": 19,
   "metadata": {},
   "outputs": [],
   "source": [
    "import pandas as pd\n",
    "import numpy as np\n",
    "import matplotlib.pyplot as plt\n",
    "import seaborn as sns"
   ]
  },
  {
   "cell_type": "code",
   "execution_count": 20,
   "metadata": {},
   "outputs": [],
   "source": [
    "index = []\n",
    "board = ['a', 'b', 'c', 'd', 'e', 'f', 'g']\n",
    "\n",
    "for i in board:\n",
    "    for j in range(6):\n",
    "        index.append(i + str(j+1))\n",
    "\n",
    "column_names = index + ['Class']"
   ]
  },
  {
   "cell_type": "code",
   "execution_count": 21,
   "metadata": {},
   "outputs": [],
   "source": [
    "# Read csv from provided dataset\n",
    "csv_filename = \"connect-4.data\"\n",
    "df = pd.read_csv(csv_filename, names=column_names)"
   ]
  },
  {
   "cell_type": "code",
   "execution_count": 22,
   "metadata": {},
   "outputs": [
    {
     "data": {
      "text/html": [
       "<div>\n",
       "<style scoped>\n",
       "    .dataframe tbody tr th:only-of-type {\n",
       "        vertical-align: middle;\n",
       "    }\n",
       "\n",
       "    .dataframe tbody tr th {\n",
       "        vertical-align: top;\n",
       "    }\n",
       "\n",
       "    .dataframe thead th {\n",
       "        text-align: right;\n",
       "    }\n",
       "</style>\n",
       "<table border=\"1\" class=\"dataframe\">\n",
       "  <thead>\n",
       "    <tr style=\"text-align: right;\">\n",
       "      <th></th>\n",
       "      <th>a1</th>\n",
       "      <th>a2</th>\n",
       "      <th>a3</th>\n",
       "      <th>a4</th>\n",
       "      <th>a5</th>\n",
       "      <th>a6</th>\n",
       "      <th>b1</th>\n",
       "      <th>b2</th>\n",
       "      <th>b3</th>\n",
       "      <th>b4</th>\n",
       "      <th>...</th>\n",
       "      <th>f4</th>\n",
       "      <th>f5</th>\n",
       "      <th>f6</th>\n",
       "      <th>g1</th>\n",
       "      <th>g2</th>\n",
       "      <th>g3</th>\n",
       "      <th>g4</th>\n",
       "      <th>g5</th>\n",
       "      <th>g6</th>\n",
       "      <th>Class</th>\n",
       "    </tr>\n",
       "  </thead>\n",
       "  <tbody>\n",
       "    <tr>\n",
       "      <th>0</th>\n",
       "      <td>b</td>\n",
       "      <td>b</td>\n",
       "      <td>b</td>\n",
       "      <td>b</td>\n",
       "      <td>b</td>\n",
       "      <td>b</td>\n",
       "      <td>b</td>\n",
       "      <td>b</td>\n",
       "      <td>b</td>\n",
       "      <td>b</td>\n",
       "      <td>...</td>\n",
       "      <td>b</td>\n",
       "      <td>b</td>\n",
       "      <td>b</td>\n",
       "      <td>b</td>\n",
       "      <td>b</td>\n",
       "      <td>b</td>\n",
       "      <td>b</td>\n",
       "      <td>b</td>\n",
       "      <td>b</td>\n",
       "      <td>win</td>\n",
       "    </tr>\n",
       "    <tr>\n",
       "      <th>1</th>\n",
       "      <td>b</td>\n",
       "      <td>b</td>\n",
       "      <td>b</td>\n",
       "      <td>b</td>\n",
       "      <td>b</td>\n",
       "      <td>b</td>\n",
       "      <td>b</td>\n",
       "      <td>b</td>\n",
       "      <td>b</td>\n",
       "      <td>b</td>\n",
       "      <td>...</td>\n",
       "      <td>b</td>\n",
       "      <td>b</td>\n",
       "      <td>b</td>\n",
       "      <td>b</td>\n",
       "      <td>b</td>\n",
       "      <td>b</td>\n",
       "      <td>b</td>\n",
       "      <td>b</td>\n",
       "      <td>b</td>\n",
       "      <td>win</td>\n",
       "    </tr>\n",
       "    <tr>\n",
       "      <th>2</th>\n",
       "      <td>b</td>\n",
       "      <td>b</td>\n",
       "      <td>b</td>\n",
       "      <td>b</td>\n",
       "      <td>b</td>\n",
       "      <td>b</td>\n",
       "      <td>o</td>\n",
       "      <td>b</td>\n",
       "      <td>b</td>\n",
       "      <td>b</td>\n",
       "      <td>...</td>\n",
       "      <td>b</td>\n",
       "      <td>b</td>\n",
       "      <td>b</td>\n",
       "      <td>b</td>\n",
       "      <td>b</td>\n",
       "      <td>b</td>\n",
       "      <td>b</td>\n",
       "      <td>b</td>\n",
       "      <td>b</td>\n",
       "      <td>win</td>\n",
       "    </tr>\n",
       "    <tr>\n",
       "      <th>3</th>\n",
       "      <td>b</td>\n",
       "      <td>b</td>\n",
       "      <td>b</td>\n",
       "      <td>b</td>\n",
       "      <td>b</td>\n",
       "      <td>b</td>\n",
       "      <td>b</td>\n",
       "      <td>b</td>\n",
       "      <td>b</td>\n",
       "      <td>b</td>\n",
       "      <td>...</td>\n",
       "      <td>b</td>\n",
       "      <td>b</td>\n",
       "      <td>b</td>\n",
       "      <td>b</td>\n",
       "      <td>b</td>\n",
       "      <td>b</td>\n",
       "      <td>b</td>\n",
       "      <td>b</td>\n",
       "      <td>b</td>\n",
       "      <td>win</td>\n",
       "    </tr>\n",
       "    <tr>\n",
       "      <th>4</th>\n",
       "      <td>o</td>\n",
       "      <td>b</td>\n",
       "      <td>b</td>\n",
       "      <td>b</td>\n",
       "      <td>b</td>\n",
       "      <td>b</td>\n",
       "      <td>b</td>\n",
       "      <td>b</td>\n",
       "      <td>b</td>\n",
       "      <td>b</td>\n",
       "      <td>...</td>\n",
       "      <td>b</td>\n",
       "      <td>b</td>\n",
       "      <td>b</td>\n",
       "      <td>b</td>\n",
       "      <td>b</td>\n",
       "      <td>b</td>\n",
       "      <td>b</td>\n",
       "      <td>b</td>\n",
       "      <td>b</td>\n",
       "      <td>win</td>\n",
       "    </tr>\n",
       "    <tr>\n",
       "      <th>...</th>\n",
       "      <td>...</td>\n",
       "      <td>...</td>\n",
       "      <td>...</td>\n",
       "      <td>...</td>\n",
       "      <td>...</td>\n",
       "      <td>...</td>\n",
       "      <td>...</td>\n",
       "      <td>...</td>\n",
       "      <td>...</td>\n",
       "      <td>...</td>\n",
       "      <td>...</td>\n",
       "      <td>...</td>\n",
       "      <td>...</td>\n",
       "      <td>...</td>\n",
       "      <td>...</td>\n",
       "      <td>...</td>\n",
       "      <td>...</td>\n",
       "      <td>...</td>\n",
       "      <td>...</td>\n",
       "      <td>...</td>\n",
       "      <td>...</td>\n",
       "    </tr>\n",
       "    <tr>\n",
       "      <th>67552</th>\n",
       "      <td>x</td>\n",
       "      <td>x</td>\n",
       "      <td>b</td>\n",
       "      <td>b</td>\n",
       "      <td>b</td>\n",
       "      <td>b</td>\n",
       "      <td>o</td>\n",
       "      <td>x</td>\n",
       "      <td>o</td>\n",
       "      <td>b</td>\n",
       "      <td>...</td>\n",
       "      <td>b</td>\n",
       "      <td>b</td>\n",
       "      <td>b</td>\n",
       "      <td>o</td>\n",
       "      <td>o</td>\n",
       "      <td>x</td>\n",
       "      <td>b</td>\n",
       "      <td>b</td>\n",
       "      <td>b</td>\n",
       "      <td>loss</td>\n",
       "    </tr>\n",
       "    <tr>\n",
       "      <th>67553</th>\n",
       "      <td>x</td>\n",
       "      <td>x</td>\n",
       "      <td>b</td>\n",
       "      <td>b</td>\n",
       "      <td>b</td>\n",
       "      <td>b</td>\n",
       "      <td>o</td>\n",
       "      <td>b</td>\n",
       "      <td>b</td>\n",
       "      <td>b</td>\n",
       "      <td>...</td>\n",
       "      <td>b</td>\n",
       "      <td>b</td>\n",
       "      <td>b</td>\n",
       "      <td>o</td>\n",
       "      <td>x</td>\n",
       "      <td>o</td>\n",
       "      <td>o</td>\n",
       "      <td>x</td>\n",
       "      <td>b</td>\n",
       "      <td>draw</td>\n",
       "    </tr>\n",
       "    <tr>\n",
       "      <th>67554</th>\n",
       "      <td>x</td>\n",
       "      <td>x</td>\n",
       "      <td>b</td>\n",
       "      <td>b</td>\n",
       "      <td>b</td>\n",
       "      <td>b</td>\n",
       "      <td>o</td>\n",
       "      <td>o</td>\n",
       "      <td>b</td>\n",
       "      <td>b</td>\n",
       "      <td>...</td>\n",
       "      <td>b</td>\n",
       "      <td>b</td>\n",
       "      <td>b</td>\n",
       "      <td>o</td>\n",
       "      <td>x</td>\n",
       "      <td>x</td>\n",
       "      <td>o</td>\n",
       "      <td>b</td>\n",
       "      <td>b</td>\n",
       "      <td>loss</td>\n",
       "    </tr>\n",
       "    <tr>\n",
       "      <th>67555</th>\n",
       "      <td>x</td>\n",
       "      <td>o</td>\n",
       "      <td>b</td>\n",
       "      <td>b</td>\n",
       "      <td>b</td>\n",
       "      <td>b</td>\n",
       "      <td>o</td>\n",
       "      <td>b</td>\n",
       "      <td>b</td>\n",
       "      <td>b</td>\n",
       "      <td>...</td>\n",
       "      <td>b</td>\n",
       "      <td>b</td>\n",
       "      <td>b</td>\n",
       "      <td>o</td>\n",
       "      <td>x</td>\n",
       "      <td>o</td>\n",
       "      <td>x</td>\n",
       "      <td>x</td>\n",
       "      <td>b</td>\n",
       "      <td>draw</td>\n",
       "    </tr>\n",
       "    <tr>\n",
       "      <th>67556</th>\n",
       "      <td>x</td>\n",
       "      <td>o</td>\n",
       "      <td>o</td>\n",
       "      <td>o</td>\n",
       "      <td>x</td>\n",
       "      <td>b</td>\n",
       "      <td>o</td>\n",
       "      <td>b</td>\n",
       "      <td>b</td>\n",
       "      <td>b</td>\n",
       "      <td>...</td>\n",
       "      <td>b</td>\n",
       "      <td>b</td>\n",
       "      <td>b</td>\n",
       "      <td>x</td>\n",
       "      <td>b</td>\n",
       "      <td>b</td>\n",
       "      <td>b</td>\n",
       "      <td>b</td>\n",
       "      <td>b</td>\n",
       "      <td>draw</td>\n",
       "    </tr>\n",
       "  </tbody>\n",
       "</table>\n",
       "<p>67557 rows × 43 columns</p>\n",
       "</div>"
      ],
      "text/plain": [
       "      a1 a2 a3 a4 a5 a6 b1 b2 b3 b4  ... f4 f5 f6 g1 g2 g3 g4 g5 g6 Class\n",
       "0      b  b  b  b  b  b  b  b  b  b  ...  b  b  b  b  b  b  b  b  b   win\n",
       "1      b  b  b  b  b  b  b  b  b  b  ...  b  b  b  b  b  b  b  b  b   win\n",
       "2      b  b  b  b  b  b  o  b  b  b  ...  b  b  b  b  b  b  b  b  b   win\n",
       "3      b  b  b  b  b  b  b  b  b  b  ...  b  b  b  b  b  b  b  b  b   win\n",
       "4      o  b  b  b  b  b  b  b  b  b  ...  b  b  b  b  b  b  b  b  b   win\n",
       "...   .. .. .. .. .. .. .. .. .. ..  ... .. .. .. .. .. .. .. .. ..   ...\n",
       "67552  x  x  b  b  b  b  o  x  o  b  ...  b  b  b  o  o  x  b  b  b  loss\n",
       "67553  x  x  b  b  b  b  o  b  b  b  ...  b  b  b  o  x  o  o  x  b  draw\n",
       "67554  x  x  b  b  b  b  o  o  b  b  ...  b  b  b  o  x  x  o  b  b  loss\n",
       "67555  x  o  b  b  b  b  o  b  b  b  ...  b  b  b  o  x  o  x  x  b  draw\n",
       "67556  x  o  o  o  x  b  o  b  b  b  ...  b  b  b  x  b  b  b  b  b  draw\n",
       "\n",
       "[67557 rows x 43 columns]"
      ]
     },
     "execution_count": 22,
     "metadata": {},
     "output_type": "execute_result"
    }
   ],
   "source": [
    "df.head(67557)"
   ]
  },
  {
   "cell_type": "code",
   "execution_count": 23,
   "metadata": {},
   "outputs": [],
   "source": [
    "x = df.iloc[:, :-1].values\n",
    "y = df.iloc[:, -1].values\n",
    "# Replace x(1), o(0), and b(-1) with numerical encoding, the fitting function doesn't work with character data types\n",
    "for i in range(len(x)):\n",
    "    x[i] = list(map(lambda x: x.replace('b', '-1'), x[i]))\n",
    "    x[i] = list(map(lambda x: x.replace('o', '0'), x[i]))\n",
    "    x[i] = list(map(lambda x: x.replace('x', '1'), x[i]))\n",
    "\n",
    "\n"
   ]
  },
  {
   "cell_type": "code",
   "execution_count": 24,
   "metadata": {},
   "outputs": [
    {
     "name": "stdout",
     "output_type": "stream",
     "text": [
      "[['-1' '-1' '-1' ... '-1' '-1' '-1']\n",
      " ['-1' '-1' '-1' ... '-1' '-1' '-1']\n",
      " ['-1' '-1' '-1' ... '-1' '-1' '-1']\n",
      " ...\n",
      " ['1' '1' '-1' ... '0' '-1' '-1']\n",
      " ['1' '0' '-1' ... '1' '1' '-1']\n",
      " ['1' '0' '0' ... '-1' '-1' '-1']]\n"
     ]
    }
   ],
   "source": [
    "print(x)"
   ]
  },
  {
   "cell_type": "code",
   "execution_count": 25,
   "metadata": {},
   "outputs": [
    {
     "name": "stdout",
     "output_type": "stream",
     "text": [
      "['win' 'win' 'win' ... 'loss' 'draw' 'draw']\n"
     ]
    }
   ],
   "source": [
    "print(y)"
   ]
  },
  {
   "attachments": {},
   "cell_type": "markdown",
   "metadata": {},
   "source": [
    "Encoding the Categorical Dependent Variable"
   ]
  },
  {
   "cell_type": "code",
   "execution_count": 26,
   "metadata": {},
   "outputs": [
    {
     "name": "stdout",
     "output_type": "stream",
     "text": [
      "[2 2 2 ... 1 0 0]\n"
     ]
    }
   ],
   "source": [
    "from sklearn.preprocessing import LabelEncoder\n",
    "\n",
    "l_encode = LabelEncoder()\n",
    "y = l_encode.fit_transform(y)\n",
    "print(y)"
   ]
  },
  {
   "attachments": {},
   "cell_type": "markdown",
   "metadata": {},
   "source": [
    "Splitting the Train and Test Set (20% testing, 80% training)"
   ]
  },
  {
   "cell_type": "code",
   "execution_count": 27,
   "metadata": {},
   "outputs": [
    {
     "name": "stdout",
     "output_type": "stream",
     "text": [
      "Total # X-Training Strings:  40534\n",
      "[['0' '1' '0' ... '-1' '-1' '-1']\n",
      " ['-1' '-1' '-1' ... '-1' '-1' '-1']\n",
      " ['-1' '-1' '-1' ... '-1' '-1' '-1']\n",
      " ...\n",
      " ['-1' '-1' '-1' ... '-1' '-1' '-1']\n",
      " ['1' '0' '-1' ... '-1' '-1' '-1']\n",
      " ['0' '-1' '-1' ... '-1' '-1' '-1']]\n",
      "Total # Y-Training Strings:  40534\n",
      "[2 2 1 ... 2 0 2]\n",
      "Total # X-Testing Strings:  27023\n",
      "[['-1' '-1' '-1' ... '-1' '-1' '-1']\n",
      " ['1' '1' '-1' ... '-1' '-1' '-1']\n",
      " ['-1' '-1' '-1' ... '-1' '-1' '-1']\n",
      " ...\n",
      " ['-1' '-1' '-1' ... '-1' '-1' '-1']\n",
      " ['-1' '-1' '-1' ... '-1' '-1' '-1']\n",
      " ['1' '0' '1' ... '-1' '-1' '-1']]\n",
      "Total # Y-Testing Strings:  27023\n",
      "[2 2 1 ... 2 2 1]\n"
     ]
    }
   ],
   "source": [
    "from sklearn.model_selection import train_test_split\n",
    "# 20% test, 80% train\n",
    "x_train, x_test, y_train, y_test = train_test_split(x, y, test_size=0.4, random_state=21)\n",
    "print(\"Total # X-Training Strings: \", len(x_train))\n",
    "print(x_train)\n",
    "print(\"Total # Y-Training Strings: \", len(y_train))\n",
    "print(y_train)\n",
    "print(\"Total # X-Testing Strings: \", len(x_test))\n",
    "print(x_test)\n",
    "print(\"Total # Y-Testing Strings: \", len(y_test))\n",
    "print(y_test)"
   ]
  },
  {
   "attachments": {},
   "cell_type": "markdown",
   "metadata": {},
   "source": [
    "Defining the SVM Classifier"
   ]
  },
  {
   "cell_type": "code",
   "execution_count": 28,
   "metadata": {},
   "outputs": [],
   "source": [
    "from sklearn.svm import LinearSVC\n",
    "from sklearn.svm import SVC\n",
    "#svm = SVC(kernel='poly')\n",
    "svm = LinearSVC(random_state=21)"
   ]
  },
  {
   "attachments": {},
   "cell_type": "markdown",
   "metadata": {},
   "source": [
    "Training the SVM Classifier"
   ]
  },
  {
   "cell_type": "code",
   "execution_count": 29,
   "metadata": {},
   "outputs": [
    {
     "name": "stderr",
     "output_type": "stream",
     "text": [
      "c:\\Users\\Denni\\AppData\\Local\\Programs\\Python\\Python37-32\\lib\\site-packages\\sklearn\\svm\\_base.py:1208: ConvergenceWarning: Liblinear failed to converge, increase the number of iterations.\n",
      "  ConvergenceWarning,\n"
     ]
    },
    {
     "name": "stdout",
     "output_type": "stream",
     "text": [
      "[0.65830373 0.65674956 0.65524388 0.61009548 0.65035897]\n"
     ]
    }
   ],
   "source": [
    "from sklearn.model_selection import cross_val_score\n",
    "clf = svm.fit(x_train, y_train)\n",
    "scores = cross_val_score(clf, x, y, cv=5, n_jobs=-1)\n",
    "print(scores)\n",
    "# Convergence warning is expected"
   ]
  },
  {
   "attachments": {},
   "cell_type": "markdown",
   "metadata": {},
   "source": [
    "Predicting the Test Result"
   ]
  },
  {
   "cell_type": "code",
   "execution_count": 30,
   "metadata": {},
   "outputs": [
    {
     "name": "stdout",
     "output_type": "stream",
     "text": [
      "[2 2 2 ... 2 2 2]\n"
     ]
    }
   ],
   "source": [
    "y_pred = svm.predict(x_test)\n",
    "print(y_pred)"
   ]
  },
  {
   "cell_type": "code",
   "execution_count": 31,
   "metadata": {},
   "outputs": [
    {
     "name": "stdout",
     "output_type": "stream",
     "text": [
      "[[2]\n",
      " [2]\n",
      " [2]\n",
      " ...\n",
      " [2]\n",
      " [2]\n",
      " [2]]\n"
     ]
    }
   ],
   "source": [
    "y_pred_vertical = y_pred.reshape(len(y_pred), 1)\n",
    "print(y_pred_vertical)"
   ]
  },
  {
   "cell_type": "code",
   "execution_count": 32,
   "metadata": {},
   "outputs": [
    {
     "name": "stdout",
     "output_type": "stream",
     "text": [
      "[[2]\n",
      " [2]\n",
      " [1]\n",
      " ...\n",
      " [2]\n",
      " [2]\n",
      " [1]]\n"
     ]
    }
   ],
   "source": [
    "y_true_vertical = y_test.reshape(len(y_test), 1)\n",
    "print(y_true_vertical)"
   ]
  },
  {
   "cell_type": "code",
   "execution_count": 33,
   "metadata": {},
   "outputs": [
    {
     "name": "stdout",
     "output_type": "stream",
     "text": [
      "[[2 2]\n",
      " [2 2]\n",
      " [1 2]\n",
      " ...\n",
      " [2 2]\n",
      " [2 2]\n",
      " [1 2]]\n"
     ]
    }
   ],
   "source": [
    "true_pred = np.concatenate((y_true_vertical, y_pred_vertical), axis=1)\n",
    "print(true_pred)"
   ]
  },
  {
   "attachments": {},
   "cell_type": "markdown",
   "metadata": {},
   "source": [
    "Plotting the Confusion Matrix"
   ]
  },
  {
   "cell_type": "code",
   "execution_count": 34,
   "metadata": {},
   "outputs": [
    {
     "data": {
      "image/png": "[encoded data removed]",
      "text/plain": [
       "<Figure size 640x480 with 2 Axes>"
      ]
     },
     "metadata": {},
     "output_type": "display_data"
    }
   ],
   "source": [
    "from sklearn.metrics import confusion_matrix\n",
    "confusion_mat = confusion_matrix(y_test, y_pred)\n",
    "sns.heatmap(confusion_mat, annot=True)\n",
    "plt.xlabel(\"Predicted Label\")\n",
    "plt.ylabel(\"True Label\")\n",
    "plt.title(\"Confusion Matrix\")\n",
    "plt.show()\n",
    "\n",
    "# If all were predicted correctly, there should only be 1 kind of value per row\n",
    "# Ex. Classifies all 11 setosas correctly, 2/12 versicolors are misclassified, all 7 virginicas are correctly classified"
   ]
  },
  {
   "attachments": {},
   "cell_type": "markdown",
   "metadata": {},
   "source": [
    "Finding the Classifier Accuracy"
   ]
  },
  {
   "cell_type": "code",
   "execution_count": 35,
   "metadata": {},
   "outputs": [
    {
     "data": {
      "text/plain": [
       "0.6591422121896162"
      ]
     },
     "execution_count": 35,
     "metadata": {},
     "output_type": "execute_result"
    }
   ],
   "source": [
    "from sklearn.metrics import accuracy_score\n",
    "accuracy_score(y_test, y_pred)"
   ]
  },
  {
   "attachments": {},
   "cell_type": "markdown",
   "metadata": {},
   "source": [
    "Refit Hyperparameters"
   ]
  },
  {
   "cell_type": "code",
   "execution_count": 36,
   "metadata": {},
   "outputs": [
    {
     "name": "stdout",
     "output_type": "stream",
     "text": [
      "n_iterations: 3\n",
      "n_required_iterations: 3\n",
      "n_possible_iterations: 3\n",
      "min_resources_: 4503\n",
      "max_resources_: 40534\n",
      "aggressive_elimination: False\n",
      "factor: 3\n",
      "----------\n",
      "iter: 0\n",
      "n_candidates: 25\n",
      "n_resources: 4503\n",
      "Fitting 5 folds for each of 25 candidates, totalling 125 fits\n",
      "[CV 1/5] END C=0.1, gamma=1, kernel=linear;, score=(train=0.659, test=0.658) total time=   0.7s\n",
      "[CV 2/5] END C=0.1, gamma=1, kernel=linear;, score=(train=0.658, test=0.667) total time=   0.7s\n",
      "[CV 3/5] END C=0.1, gamma=1, kernel=linear;, score=(train=0.668, test=0.657) total time=   0.7s\n",
      "[CV 4/5] END C=0.1, gamma=1, kernel=linear;, score=(train=0.659, test=0.664) total time=   0.7s\n",
      "[CV 5/5] END C=0.1, gamma=1, kernel=linear;, score=(train=0.664, test=0.660) total time=   0.8s\n",
      "[CV 1/5] END C=0.1, gamma=0.1, kernel=linear;, score=(train=0.659, test=0.658) total time=   0.7s\n",
      "[CV 2/5] END C=0.1, gamma=0.1, kernel=linear;, score=(train=0.658, test=0.667) total time=   0.8s\n",
      "[CV 3/5] END C=0.1, gamma=0.1, kernel=linear;, score=(train=0.668, test=0.657) total time=   0.7s\n",
      "[CV 4/5] END C=0.1, gamma=0.1, kernel=linear;, score=(train=0.659, test=0.664) total time=   0.8s\n",
      "[CV 5/5] END C=0.1, gamma=0.1, kernel=linear;, score=(train=0.664, test=0.660) total time=   0.7s\n",
      "[CV 1/5] END C=0.1, gamma=0.01, kernel=linear;, score=(train=0.659, test=0.658) total time=   0.7s\n",
      "[CV 2/5] END C=0.1, gamma=0.01, kernel=linear;, score=(train=0.658, test=0.667) total time=   0.7s\n",
      "[CV 3/5] END C=0.1, gamma=0.01, kernel=linear;, score=(train=0.668, test=0.657) total time=   0.7s\n",
      "[CV 4/5] END C=0.1, gamma=0.01, kernel=linear;, score=(train=0.659, test=0.664) total time=   0.7s\n",
      "[CV 5/5] END C=0.1, gamma=0.01, kernel=linear;, score=(train=0.664, test=0.660) total time=   0.7s\n",
      "[CV 1/5] END C=0.1, gamma=0.001, kernel=linear;, score=(train=0.659, test=0.658) total time=   0.8s\n",
      "[CV 2/5] END C=0.1, gamma=0.001, kernel=linear;, score=(train=0.658, test=0.667) total time=   0.7s\n",
      "[CV 3/5] END C=0.1, gamma=0.001, kernel=linear;, score=(train=0.668, test=0.657) total time=   0.7s\n",
      "[CV 4/5] END C=0.1, gamma=0.001, kernel=linear;, score=(train=0.659, test=0.664) total time=   0.7s\n",
      "[CV 5/5] END C=0.1, gamma=0.001, kernel=linear;, score=(train=0.664, test=0.660) total time=   0.7s\n",
      "[CV 1/5] END C=0.1, gamma=0.0001, kernel=linear;, score=(train=0.659, test=0.658) total time=   0.7s\n",
      "[CV 2/5] END C=0.1, gamma=0.0001, kernel=linear;, score=(train=0.658, test=0.667) total time=   0.7s\n",
      "[CV 3/5] END C=0.1, gamma=0.0001, kernel=linear;, score=(train=0.668, test=0.657) total time=   0.7s\n",
      "[CV 4/5] END C=0.1, gamma=0.0001, kernel=linear;, score=(train=0.659, test=0.664) total time=   0.7s\n",
      "[CV 5/5] END C=0.1, gamma=0.0001, kernel=linear;, score=(train=0.664, test=0.660) total time=   0.7s\n",
      "[CV 1/5] END C=1, gamma=1, kernel=linear;, score=(train=0.659, test=0.658) total time=   0.8s\n",
      "[CV 2/5] END C=1, gamma=1, kernel=linear;, score=(train=0.659, test=0.668) total time=   1.0s\n",
      "[CV 3/5] END C=1, gamma=1, kernel=linear;, score=(train=0.668, test=0.657) total time=   0.9s\n",
      "[CV 4/5] END C=1, gamma=1, kernel=linear;, score=(train=0.661, test=0.663) total time=   0.9s\n",
      "[CV 5/5] END C=1, gamma=1, kernel=linear;, score=(train=0.664, test=0.661) total time=   0.8s\n",
      "[CV 1/5] END C=1, gamma=0.1, kernel=linear;, score=(train=0.659, test=0.658) total time=   0.8s\n",
      "[CV 2/5] END C=1, gamma=0.1, kernel=linear;, score=(train=0.659, test=0.668) total time=   0.9s\n",
      "[CV 3/5] END C=1, gamma=0.1, kernel=linear;, score=(train=0.668, test=0.657) total time=   0.9s\n",
      "[CV 4/5] END C=1, gamma=0.1, kernel=linear;, score=(train=0.661, test=0.663) total time=   0.8s\n",
      "[CV 5/5] END C=1, gamma=0.1, kernel=linear;, score=(train=0.664, test=0.661) total time=   0.8s\n",
      "[CV 1/5] END C=1, gamma=0.01, kernel=linear;, score=(train=0.659, test=0.658) total time=   0.8s\n",
      "[CV 2/5] END C=1, gamma=0.01, kernel=linear;, score=(train=0.659, test=0.668) total time=   0.8s\n",
      "[CV 3/5] END C=1, gamma=0.01, kernel=linear;, score=(train=0.668, test=0.657) total time=   1.0s\n",
      "[CV 4/5] END C=1, gamma=0.01, kernel=linear;, score=(train=0.661, test=0.663) total time=   0.9s\n",
      "[CV 5/5] END C=1, gamma=0.01, kernel=linear;, score=(train=0.664, test=0.661) total time=   0.8s\n",
      "[CV 1/5] END C=1, gamma=0.001, kernel=linear;, score=(train=0.659, test=0.658) total time=   0.9s\n",
      "[CV 2/5] END C=1, gamma=0.001, kernel=linear;, score=(train=0.659, test=0.668) total time=   0.9s\n",
      "[CV 3/5] END C=1, gamma=0.001, kernel=linear;, score=(train=0.668, test=0.657) total time=   0.9s\n",
      "[CV 4/5] END C=1, gamma=0.001, kernel=linear;, score=(train=0.661, test=0.663) total time=   0.8s\n",
      "[CV 5/5] END C=1, gamma=0.001, kernel=linear;, score=(train=0.664, test=0.661) total time=   1.1s\n",
      "[CV 1/5] END C=1, gamma=0.0001, kernel=linear;, score=(train=0.659, test=0.658) total time=   1.0s\n",
      "[CV 2/5] END C=1, gamma=0.0001, kernel=linear;, score=(train=0.659, test=0.668) total time=   0.9s\n",
      "[CV 3/5] END C=1, gamma=0.0001, kernel=linear;, score=(train=0.668, test=0.657) total time=   0.9s\n",
      "[CV 4/5] END C=1, gamma=0.0001, kernel=linear;, score=(train=0.661, test=0.663) total time=   0.9s\n",
      "[CV 5/5] END C=1, gamma=0.0001, kernel=linear;, score=(train=0.664, test=0.661) total time=   0.8s\n",
      "[CV 1/5] END C=10, gamma=1, kernel=linear;, score=(train=0.659, test=0.658) total time=   1.7s\n",
      "[CV 2/5] END C=10, gamma=1, kernel=linear;, score=(train=0.659, test=0.668) total time=   1.8s\n",
      "[CV 3/5] END C=10, gamma=1, kernel=linear;, score=(train=0.668, test=0.657) total time=   2.0s\n",
      "[CV 4/5] END C=10, gamma=1, kernel=linear;, score=(train=0.658, test=0.662) total time=   2.1s\n",
      "[CV 5/5] END C=10, gamma=1, kernel=linear;, score=(train=0.664, test=0.661) total time=   1.9s\n",
      "[CV 1/5] END C=10, gamma=0.1, kernel=linear;, score=(train=0.659, test=0.658) total time=   1.7s\n",
      "[CV 2/5] END C=10, gamma=0.1, kernel=linear;, score=(train=0.659, test=0.668) total time=   2.1s\n",
      "[CV 3/5] END C=10, gamma=0.1, kernel=linear;, score=(train=0.668, test=0.657) total time=   2.1s\n",
      "[CV 4/5] END C=10, gamma=0.1, kernel=linear;, score=(train=0.658, test=0.662) total time=   1.9s\n",
      "[CV 5/5] END C=10, gamma=0.1, kernel=linear;, score=(train=0.664, test=0.661) total time=   1.9s\n",
      "[CV 1/5] END C=10, gamma=0.01, kernel=linear;, score=(train=0.659, test=0.658) total time=   1.7s\n",
      "[CV 2/5] END C=10, gamma=0.01, kernel=linear;, score=(train=0.659, test=0.668) total time=   1.8s\n",
      "[CV 3/5] END C=10, gamma=0.01, kernel=linear;, score=(train=0.668, test=0.657) total time=   1.8s\n",
      "[CV 4/5] END C=10, gamma=0.01, kernel=linear;, score=(train=0.658, test=0.662) total time=   1.9s\n",
      "[CV 5/5] END C=10, gamma=0.01, kernel=linear;, score=(train=0.664, test=0.661) total time=   1.8s\n",
      "[CV 1/5] END C=10, gamma=0.001, kernel=linear;, score=(train=0.659, test=0.658) total time=   1.8s\n",
      "[CV 2/5] END C=10, gamma=0.001, kernel=linear;, score=(train=0.659, test=0.668) total time=   1.9s\n",
      "[CV 3/5] END C=10, gamma=0.001, kernel=linear;, score=(train=0.668, test=0.657) total time=   2.3s\n",
      "[CV 4/5] END C=10, gamma=0.001, kernel=linear;, score=(train=0.658, test=0.662) total time=   1.9s\n",
      "[CV 5/5] END C=10, gamma=0.001, kernel=linear;, score=(train=0.664, test=0.661) total time=   1.8s\n",
      "[CV 1/5] END C=10, gamma=0.0001, kernel=linear;, score=(train=0.659, test=0.658) total time=   1.7s\n",
      "[CV 2/5] END C=10, gamma=0.0001, kernel=linear;, score=(train=0.659, test=0.668) total time=   1.8s\n",
      "[CV 3/5] END C=10, gamma=0.0001, kernel=linear;, score=(train=0.668, test=0.657) total time=   1.8s\n",
      "[CV 4/5] END C=10, gamma=0.0001, kernel=linear;, score=(train=0.658, test=0.662) total time=   1.9s\n",
      "[CV 5/5] END C=10, gamma=0.0001, kernel=linear;, score=(train=0.664, test=0.661) total time=   1.8s\n",
      "[CV 1/5] END C=100, gamma=1, kernel=linear;, score=(train=0.659, test=0.658) total time=   6.5s\n",
      "[CV 2/5] END C=100, gamma=1, kernel=linear;, score=(train=0.659, test=0.668) total time=   6.8s\n",
      "[CV 3/5] END C=100, gamma=1, kernel=linear;, score=(train=0.668, test=0.657) total time=   6.8s\n",
      "[CV 4/5] END C=100, gamma=1, kernel=linear;, score=(train=0.660, test=0.663) total time=   7.4s\n",
      "[CV 5/5] END C=100, gamma=1, kernel=linear;, score=(train=0.665, test=0.661) total time=   7.0s\n",
      "[CV 1/5] END C=100, gamma=0.1, kernel=linear;, score=(train=0.659, test=0.658) total time=   6.7s\n",
      "[CV 2/5] END C=100, gamma=0.1, kernel=linear;, score=(train=0.659, test=0.668) total time=   6.8s\n",
      "[CV 3/5] END C=100, gamma=0.1, kernel=linear;, score=(train=0.668, test=0.657) total time=   7.1s\n",
      "[CV 4/5] END C=100, gamma=0.1, kernel=linear;, score=(train=0.660, test=0.663) total time=   7.6s\n",
      "[CV 5/5] END C=100, gamma=0.1, kernel=linear;, score=(train=0.665, test=0.661) total time=   7.0s\n",
      "[CV 1/5] END C=100, gamma=0.01, kernel=linear;, score=(train=0.659, test=0.658) total time=   6.8s\n",
      "[CV 2/5] END C=100, gamma=0.01, kernel=linear;, score=(train=0.659, test=0.668) total time=   7.0s\n",
      "[CV 3/5] END C=100, gamma=0.01, kernel=linear;, score=(train=0.668, test=0.657) total time=   6.7s\n",
      "[CV 4/5] END C=100, gamma=0.01, kernel=linear;, score=(train=0.660, test=0.663) total time=   7.1s\n",
      "[CV 5/5] END C=100, gamma=0.01, kernel=linear;, score=(train=0.665, test=0.661) total time=   7.1s\n",
      "[CV 1/5] END C=100, gamma=0.001, kernel=linear;, score=(train=0.659, test=0.658) total time=   7.1s\n",
      "[CV 2/5] END C=100, gamma=0.001, kernel=linear;, score=(train=0.659, test=0.668) total time=   7.3s\n",
      "[CV 3/5] END C=100, gamma=0.001, kernel=linear;, score=(train=0.668, test=0.657) total time=   6.7s\n",
      "[CV 4/5] END C=100, gamma=0.001, kernel=linear;, score=(train=0.660, test=0.663) total time=   7.1s\n",
      "[CV 5/5] END C=100, gamma=0.001, kernel=linear;, score=(train=0.665, test=0.661) total time=   7.2s\n",
      "[CV 1/5] END C=100, gamma=0.0001, kernel=linear;, score=(train=0.659, test=0.658) total time=   6.6s\n",
      "[CV 2/5] END C=100, gamma=0.0001, kernel=linear;, score=(train=0.659, test=0.668) total time=   6.9s\n",
      "[CV 3/5] END C=100, gamma=0.0001, kernel=linear;, score=(train=0.668, test=0.657) total time=   6.8s\n",
      "[CV 4/5] END C=100, gamma=0.0001, kernel=linear;, score=(train=0.660, test=0.663) total time=   7.0s\n",
      "[CV 5/5] END C=100, gamma=0.0001, kernel=linear;, score=(train=0.665, test=0.661) total time=   7.1s\n",
      "[CV 1/5] END C=100, gamma=1, kernel=linear;, score=(train=0.659, test=0.658) total time=   6.6s\n",
      "[CV 2/5] END C=100, gamma=1, kernel=linear;, score=(train=0.659, test=0.668) total time=   7.2s\n",
      "[CV 3/5] END C=100, gamma=1, kernel=linear;, score=(train=0.668, test=0.657) total time=   7.4s\n",
      "[CV 4/5] END C=100, gamma=1, kernel=linear;, score=(train=0.660, test=0.663) total time=   6.9s\n",
      "[CV 5/5] END C=100, gamma=1, kernel=linear;, score=(train=0.665, test=0.661) total time=   6.9s\n",
      "[CV 1/5] END C=100, gamma=0.1, kernel=linear;, score=(train=0.659, test=0.658) total time=   6.5s\n",
      "[CV 2/5] END C=100, gamma=0.1, kernel=linear;, score=(train=0.659, test=0.668) total time=   6.7s\n",
      "[CV 3/5] END C=100, gamma=0.1, kernel=linear;, score=(train=0.668, test=0.657) total time=   6.6s\n",
      "[CV 4/5] END C=100, gamma=0.1, kernel=linear;, score=(train=0.660, test=0.663) total time=   7.0s\n",
      "[CV 5/5] END C=100, gamma=0.1, kernel=linear;, score=(train=0.665, test=0.661) total time=   7.1s\n",
      "[CV 1/5] END C=100, gamma=0.01, kernel=linear;, score=(train=0.659, test=0.658) total time=   6.5s\n",
      "[CV 2/5] END C=100, gamma=0.01, kernel=linear;, score=(train=0.659, test=0.668) total time=   6.7s\n",
      "[CV 3/5] END C=100, gamma=0.01, kernel=linear;, score=(train=0.668, test=0.657) total time=   6.6s\n",
      "[CV 4/5] END C=100, gamma=0.01, kernel=linear;, score=(train=0.660, test=0.663) total time=   6.9s\n",
      "[CV 5/5] END C=100, gamma=0.01, kernel=linear;, score=(train=0.665, test=0.661) total time=   7.0s\n",
      "[CV 1/5] END C=100, gamma=0.001, kernel=linear;, score=(train=0.659, test=0.658) total time=   6.9s\n",
      "[CV 2/5] END C=100, gamma=0.001, kernel=linear;, score=(train=0.659, test=0.668) total time=   6.8s\n",
      "[CV 3/5] END C=100, gamma=0.001, kernel=linear;, score=(train=0.668, test=0.657) total time=   7.4s\n",
      "[CV 4/5] END C=100, gamma=0.001, kernel=linear;, score=(train=0.660, test=0.663) total time=   7.0s\n",
      "[CV 5/5] END C=100, gamma=0.001, kernel=linear;, score=(train=0.665, test=0.661) total time=   7.0s\n",
      "[CV 1/5] END C=100, gamma=0.0001, kernel=linear;, score=(train=0.659, test=0.658) total time=   6.6s\n",
      "[CV 2/5] END C=100, gamma=0.0001, kernel=linear;, score=(train=0.659, test=0.668) total time=   6.8s\n",
      "[CV 3/5] END C=100, gamma=0.0001, kernel=linear;, score=(train=0.668, test=0.657) total time=   6.8s\n",
      "[CV 4/5] END C=100, gamma=0.0001, kernel=linear;, score=(train=0.660, test=0.663) total time=   7.0s\n",
      "[CV 5/5] END C=100, gamma=0.0001, kernel=linear;, score=(train=0.665, test=0.661) total time=   7.0s\n",
      "----------\n",
      "iter: 1\n",
      "n_candidates: 9\n",
      "n_resources: 13509\n",
      "Fitting 5 folds for each of 9 candidates, totalling 45 fits\n",
      "[CV 1/5] END C=100, gamma=0.01, kernel=linear;, score=(train=0.657, test=0.654) total time= 1.7min\n",
      "[CV 2/5] END C=100, gamma=0.01, kernel=linear;, score=(train=0.661, test=0.657) total time= 1.6min\n",
      "[CV 3/5] END C=100, gamma=0.01, kernel=linear;, score=(train=0.654, test=0.667) total time= 1.6min\n",
      "[CV 4/5] END C=100, gamma=0.01, kernel=linear;, score=(train=0.659, test=0.650) total time= 1.7min\n",
      "[CV 5/5] END C=100, gamma=0.01, kernel=linear;, score=(train=0.654, test=0.647) total time= 1.6min\n",
      "[CV 1/5] END C=100, gamma=1, kernel=linear;, score=(train=0.657, test=0.654) total time= 1.6min\n",
      "[CV 2/5] END C=100, gamma=1, kernel=linear;, score=(train=0.661, test=0.657) total time= 1.7min\n",
      "[CV 3/5] END C=100, gamma=1, kernel=linear;, score=(train=0.654, test=0.667) total time= 1.6min\n",
      "[CV 4/5] END C=100, gamma=1, kernel=linear;, score=(train=0.659, test=0.650) total time= 1.6min\n",
      "[CV 5/5] END C=100, gamma=1, kernel=linear;, score=(train=0.654, test=0.647) total time= 1.6min\n",
      "[CV 1/5] END C=1, gamma=1, kernel=linear;, score=(train=0.657, test=0.654) total time=   7.8s\n",
      "[CV 2/5] END C=1, gamma=1, kernel=linear;, score=(train=0.661, test=0.657) total time=   8.4s\n",
      "[CV 3/5] END C=1, gamma=1, kernel=linear;, score=(train=0.654, test=0.667) total time=   7.9s\n",
      "[CV 4/5] END C=1, gamma=1, kernel=linear;, score=(train=0.659, test=0.650) total time=   7.9s\n",
      "[CV 5/5] END C=1, gamma=1, kernel=linear;, score=(train=0.654, test=0.647) total time=   8.0s\n",
      "[CV 1/5] END C=100, gamma=0.001, kernel=linear;, score=(train=0.657, test=0.654) total time= 1.6min\n",
      "[CV 2/5] END C=100, gamma=0.001, kernel=linear;, score=(train=0.661, test=0.657) total time= 1.6min\n",
      "[CV 3/5] END C=100, gamma=0.001, kernel=linear;, score=(train=0.654, test=0.667) total time= 1.6min\n",
      "[CV 4/5] END C=100, gamma=0.001, kernel=linear;, score=(train=0.659, test=0.650) total time= 1.6min\n",
      "[CV 5/5] END C=100, gamma=0.001, kernel=linear;, score=(train=0.654, test=0.647) total time= 1.6min\n",
      "[CV 1/5] END C=1, gamma=0.0001, kernel=linear;, score=(train=0.657, test=0.654) total time=   7.9s\n",
      "[CV 2/5] END C=1, gamma=0.0001, kernel=linear;, score=(train=0.661, test=0.657) total time=   8.3s\n",
      "[CV 3/5] END C=1, gamma=0.0001, kernel=linear;, score=(train=0.654, test=0.667) total time=   7.8s\n",
      "[CV 4/5] END C=1, gamma=0.0001, kernel=linear;, score=(train=0.659, test=0.650) total time=   8.0s\n",
      "[CV 5/5] END C=1, gamma=0.0001, kernel=linear;, score=(train=0.654, test=0.647) total time=   7.8s\n",
      "[CV 1/5] END C=1, gamma=0.001, kernel=linear;, score=(train=0.657, test=0.654) total time=   7.7s\n",
      "[CV 2/5] END C=1, gamma=0.001, kernel=linear;, score=(train=0.661, test=0.657) total time=   8.4s\n",
      "[CV 3/5] END C=1, gamma=0.001, kernel=linear;, score=(train=0.654, test=0.667) total time=   8.3s\n",
      "[CV 4/5] END C=1, gamma=0.001, kernel=linear;, score=(train=0.659, test=0.650) total time=   7.8s\n",
      "[CV 5/5] END C=1, gamma=0.001, kernel=linear;, score=(train=0.654, test=0.647) total time=   8.0s\n",
      "[CV 1/5] END C=1, gamma=0.01, kernel=linear;, score=(train=0.657, test=0.654) total time=   7.8s\n",
      "[CV 2/5] END C=1, gamma=0.01, kernel=linear;, score=(train=0.661, test=0.657) total time=   9.6s\n",
      "[CV 3/5] END C=1, gamma=0.01, kernel=linear;, score=(train=0.654, test=0.667) total time=   8.3s\n",
      "[CV 4/5] END C=1, gamma=0.01, kernel=linear;, score=(train=0.659, test=0.650) total time=  12.5s\n",
      "[CV 5/5] END C=1, gamma=0.01, kernel=linear;, score=(train=0.654, test=0.647) total time=   9.6s\n",
      "[CV 1/5] END C=100, gamma=0.1, kernel=linear;, score=(train=0.657, test=0.654) total time= 1.8min\n",
      "[CV 2/5] END C=100, gamma=0.1, kernel=linear;, score=(train=0.661, test=0.657) total time= 1.8min\n",
      "[CV 3/5] END C=100, gamma=0.1, kernel=linear;, score=(train=0.654, test=0.667) total time= 1.6min\n",
      "[CV 4/5] END C=100, gamma=0.1, kernel=linear;, score=(train=0.659, test=0.650) total time= 1.6min\n",
      "[CV 5/5] END C=100, gamma=0.1, kernel=linear;, score=(train=0.654, test=0.647) total time= 1.6min\n",
      "[CV 1/5] END C=100, gamma=0.0001, kernel=linear;, score=(train=0.657, test=0.654) total time= 1.6min\n",
      "[CV 2/5] END C=100, gamma=0.0001, kernel=linear;, score=(train=0.661, test=0.657) total time= 1.7min\n",
      "[CV 3/5] END C=100, gamma=0.0001, kernel=linear;, score=(train=0.654, test=0.667) total time= 1.7min\n",
      "[CV 4/5] END C=100, gamma=0.0001, kernel=linear;, score=(train=0.659, test=0.650) total time= 1.6min\n",
      "[CV 5/5] END C=100, gamma=0.0001, kernel=linear;, score=(train=0.654, test=0.647) total time= 1.7min\n",
      "----------\n",
      "iter: 2\n",
      "n_candidates: 3\n",
      "n_resources: 40527\n",
      "Fitting 5 folds for each of 3 candidates, totalling 15 fits\n",
      "[CV 1/5] END C=1, gamma=0.0001, kernel=linear;, score=(train=0.658, test=0.658) total time= 1.5min\n",
      "[CV 2/5] END C=1, gamma=0.0001, kernel=linear;, score=(train=0.659, test=0.659) total time= 1.6min\n",
      "[CV 3/5] END C=1, gamma=0.0001, kernel=linear;, score=(train=0.659, test=0.658) total time= 1.7min\n",
      "[CV 4/5] END C=1, gamma=0.0001, kernel=linear;, score=(train=0.659, test=0.658) total time= 1.6min\n",
      "[CV 5/5] END C=1, gamma=0.0001, kernel=linear;, score=(train=0.659, test=0.659) total time= 1.6min\n",
      "[CV 1/5] END C=1, gamma=0.001, kernel=linear;, score=(train=0.658, test=0.658) total time= 1.5min\n",
      "[CV 2/5] END C=1, gamma=0.001, kernel=linear;, score=(train=0.659, test=0.659) total time= 1.6min\n",
      "[CV 3/5] END C=1, gamma=0.001, kernel=linear;, score=(train=0.659, test=0.658) total time= 1.7min\n",
      "[CV 4/5] END C=1, gamma=0.001, kernel=linear;, score=(train=0.659, test=0.658) total time= 1.6min\n",
      "[CV 5/5] END C=1, gamma=0.001, kernel=linear;, score=(train=0.659, test=0.659) total time= 1.6min\n",
      "[CV 1/5] END C=1, gamma=0.01, kernel=linear;, score=(train=0.658, test=0.658) total time= 1.5min\n",
      "[CV 2/5] END C=1, gamma=0.01, kernel=linear;, score=(train=0.659, test=0.659) total time= 1.6min\n",
      "[CV 3/5] END C=1, gamma=0.01, kernel=linear;, score=(train=0.659, test=0.658) total time= 1.7min\n",
      "[CV 4/5] END C=1, gamma=0.01, kernel=linear;, score=(train=0.659, test=0.658) total time= 1.5min\n",
      "[CV 5/5] END C=1, gamma=0.01, kernel=linear;, score=(train=0.659, test=0.659) total time= 1.5min\n",
      "Best parameters:  {'C': 1, 'gamma': 0.0001, 'kernel': 'linear'}\n",
      "Best estimator:  SVC(C=1, gamma=0.0001, kernel='linear')\n"
     ]
    }
   ],
   "source": [
    "from sklearn.model_selection import GridSearchCV\n",
    "from sklearn.experimental import enable_halving_search_cv \n",
    "from sklearn.model_selection import HalvingGridSearchCV\n",
    "\n",
    "# Define parameter range\n",
    "param_grid = {'C': [0.1, 1, 10, 100, 100],\n",
    "              'gamma': [1, 0.1, 0.01, 0.001, 0.0001],\n",
    "              'kernel': ['linear']}\n",
    "grid = HalvingGridSearchCV(SVC(), param_grid, refit=True, verbose=3)\n",
    "grid.fit(x_train, y_train)\n",
    "\n",
    "# Print best parameters\n",
    "print(\"Best parameters: \", grid.best_params_)\n",
    "# Print how model looks after hyper parameter tuning\n",
    "print(\"Best estimator: \", grid.best_estimator_)\n",
    "\n"
   ]
  }
 ],
 "metadata": {
  "kernelspec": {
   "display_name": "Python 3",
   "language": "python",
   "name": "python3"
  },
  "language_info": {
   "codemirror_mode": {
    "name": "ipython",
    "version": 3
   },
   "file_extension": ".py",
   "mimetype": "text/x-python",
   "name": "python",
   "nbconvert_exporter": "python",
   "pygments_lexer": "ipython3",
   "version": "3.7.4"
  },
  "orig_nbformat": 4
 },
 "nbformat": 4,
 "nbformat_minor": 2
}
